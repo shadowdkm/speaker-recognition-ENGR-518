{
 "cells": [
  {
   "cell_type": "code",
   "execution_count": 1,
   "id": "3428760e-d45f-4c6d-82f0-b64c09f4d8e0",
   "metadata": {},
   "outputs": [
    {
     "data": {
      "application/vnd.jupyter.widget-view+json": {
       "model_id": "a7921f1a6f1c4172a0d3e0514a488736",
       "version_major": 2,
       "version_minor": 0
      },
      "text/plain": [
       "Dropdown(description='Audio Device:', index=1, options=(('Microsoft Sound Mapper - Input', 0), ('Microphone (R…"
      ]
     },
     "metadata": {},
     "output_type": "display_data"
    },
    {
     "data": {
      "application/vnd.jupyter.widget-view+json": {
       "model_id": "3f795d5e30fb48939d6ccf3635661f3d",
       "version_major": 2,
       "version_minor": 0
      },
      "text/plain": [
       "Button(button_style='success', description='Record', icon='microphone', style=ButtonStyle(), tooltip='Record')"
      ]
     },
     "metadata": {},
     "output_type": "display_data"
    },
    {
     "data": {
      "application/vnd.jupyter.widget-view+json": {
       "model_id": "5ada647ec5bc412ca49e544d99818ac8",
       "version_major": 2,
       "version_minor": 0
      },
      "text/plain": [
       "FloatProgress(value=0.0, bar_style='info', description='Volume:', max=65536.0, style=ProgressStyle(bar_color='…"
      ]
     },
     "metadata": {},
     "output_type": "display_data"
    },
    {
     "data": {
      "application/vnd.jupyter.widget-view+json": {
       "model_id": "9318ad087ee7422eb60ec2eb312e6305",
       "version_major": 2,
       "version_minor": 0
      },
      "text/plain": [
       "Button(button_style='warning', description='Stop', icon='stop', style=ButtonStyle(), tooltip='Stop')"
      ]
     },
     "metadata": {},
     "output_type": "display_data"
    },
    {
     "data": {
      "application/vnd.jupyter.widget-view+json": {
       "model_id": "627607215b6745a1a38988824415879a",
       "version_major": 2,
       "version_minor": 0
      },
      "text/plain": [
       "Output()"
      ]
     },
     "metadata": {},
     "output_type": "display_data"
    }
   ],
   "source": [
    "#jupyter labextension install @jupyter-widgets/jupyterlab-manager\n",
    "\n",
    "import ipywidgets as widgets\n",
    "from IPython.display import display\n",
    "from queue import Queue\n",
    "import pyaudio\n",
    "from queue import Queue\n",
    "from threading import Thread\n",
    "from time import sleep\n",
    "import numpy as np\n",
    "\n",
    "\n",
    "\n",
    "\n",
    "messages = Queue()\n",
    "recordings = Queue()\n",
    "\n",
    "CHANNELS = 1\n",
    "FRAME_RATE = 16000\n",
    "RECORD_SECONDS = 0.1\n",
    "AUDIO_FORMAT = pyaudio.paInt16\n",
    "SAMPLE_SIZE = 2\n",
    "\n",
    "\n",
    "record_button = widgets.Button(\n",
    "    description='Record',\n",
    "    disabled=False,\n",
    "    button_style='success',\n",
    "    tooltip='Record',\n",
    "    icon='microphone'\n",
    ")\n",
    "\n",
    "stop_button = widgets.Button(\n",
    "    description='Stop',\n",
    "    disabled=False,\n",
    "    button_style='warning',\n",
    "    tooltip='Stop',\n",
    "    icon='stop'\n",
    ")\n",
    "\n",
    "audioDevices=[]\n",
    "p = pyaudio.PyAudio()\n",
    "for i in range(p.get_device_count()):\n",
    "    audioDevices.append((p.get_device_info_by_index(i)['name'],i))\n",
    "p.terminate()   \n",
    "\n",
    "deviceList=widgets.Dropdown(\n",
    "    options=audioDevices,\n",
    "    value=1,\n",
    "    description='Audio Device:',\n",
    ")\n",
    "\n",
    "volBar=widgets.FloatProgress(\n",
    "    value=0,\n",
    "    min=0,\n",
    "    max=65536,\n",
    "    description='Volume:',\n",
    "    bar_style='info',\n",
    "    style={'bar_color': '#ffff00'},\n",
    "    orientation='horizontal'\n",
    ")\n",
    "\n",
    "output = widgets.Output()\n",
    "\n",
    "\n",
    "def record_microphone(chunk=1024):\n",
    "    p = pyaudio.PyAudio()\n",
    "\n",
    "\n",
    "\n",
    "    stream = p.open(format=AUDIO_FORMAT,\n",
    "                    channels=CHANNELS,\n",
    "                    rate=FRAME_RATE,\n",
    "                    input=True,\n",
    "                    input_device_index=deviceList.value,\n",
    "                    frames_per_buffer=chunk)\n",
    "    \n",
    "    frames = []\n",
    "\n",
    "    while not messages.empty():\n",
    "        data = stream.read(chunk)\n",
    "        frames.append(data)\n",
    "        if len(frames) >= (FRAME_RATE * RECORD_SECONDS) / chunk:\n",
    "            recordings.put(frames.copy())\n",
    "            dt = np.dtype(np.int16)\n",
    "            dt = dt.newbyteorder('<')\n",
    "            for e in frames:\n",
    "                v=np.frombuffer(e, dtype=dt)\n",
    "                v=np.mean(np.abs(v))\n",
    "                volBar.value=v\n",
    "            frames = []\n",
    "\n",
    "    stream.stop_stream()\n",
    "    stream.close()\n",
    "    p.terminate()\n",
    "    print(\"Section done\")\n",
    "\n",
    "\n",
    "def start_recording(data):\n",
    "    messages.put(True)\n",
    "    with output:\n",
    "        print(\"Starting...\")\n",
    "        print(deviceList.value)\n",
    "    record = Thread(target=record_microphone)\n",
    "    record.start()\n",
    "\n",
    "\n",
    "def stop_recording(data):\n",
    "    with output:\n",
    "        messages.get()\n",
    "        print(\"Stopped.\")\n",
    "\n",
    "\n",
    "record_button.on_click(start_recording)\n",
    "stop_button.on_click(stop_recording)\n",
    "\n",
    "\n",
    "            \n",
    "display(deviceList,record_button, volBar, stop_button, output)\n"
   ]
  },
  {
   "cell_type": "code",
   "execution_count": null,
   "id": "59219f68-9e29-48fc-afc6-ffc0734b72f0",
   "metadata": {},
   "outputs": [],
   "source": []
  }
 ],
 "metadata": {
  "kernelspec": {
   "display_name": "Python 3 (ipykernel)",
   "language": "python",
   "name": "python3"
  },
  "language_info": {
   "codemirror_mode": {
    "name": "ipython",
    "version": 3
   },
   "file_extension": ".py",
   "mimetype": "text/x-python",
   "name": "python",
   "nbconvert_exporter": "python",
   "pygments_lexer": "ipython3",
   "version": "3.8.8"
  }
 },
 "nbformat": 4,
 "nbformat_minor": 5
}
